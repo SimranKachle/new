{
 "cells": [
  {
   "cell_type": "code",
   "execution_count": 279,
   "id": "5bbf5bef",
   "metadata": {},
   "outputs": [],
   "source": [
    "import numpy as np\n",
    "import pandas as pd\n",
    "from sklearn import metrics\n",
    "import seaborn as sns"
   ]
  },
  {
   "cell_type": "markdown",
   "id": "45557de0",
   "metadata": {},
   "source": [
    "### Importing Dataset"
   ]
  },
  {
   "cell_type": "code",
   "execution_count": 280,
   "id": "25ceb699",
   "metadata": {},
   "outputs": [],
   "source": [
    "df = pd.read_csv('diabetes.csv')\n"
   ]
  },
  {
   "cell_type": "code",
   "execution_count": 281,
   "id": "696cd29e",
   "metadata": {},
   "outputs": [
    {
     "data": {
      "text/html": [
       "<div>\n",
       "<style scoped>\n",
       "    .dataframe tbody tr th:only-of-type {\n",
       "        vertical-align: middle;\n",
       "    }\n",
       "\n",
       "    .dataframe tbody tr th {\n",
       "        vertical-align: top;\n",
       "    }\n",
       "\n",
       "    .dataframe thead th {\n",
       "        text-align: right;\n",
       "    }\n",
       "</style>\n",
       "<table border=\"1\" class=\"dataframe\">\n",
       "  <thead>\n",
       "    <tr style=\"text-align: right;\">\n",
       "      <th></th>\n",
       "      <th>Pregnancies</th>\n",
       "      <th>Glucose</th>\n",
       "      <th>BloodPressure</th>\n",
       "      <th>SkinThickness</th>\n",
       "      <th>Insulin</th>\n",
       "      <th>BMI</th>\n",
       "      <th>Pedigree</th>\n",
       "      <th>Age</th>\n",
       "      <th>Outcome</th>\n",
       "    </tr>\n",
       "  </thead>\n",
       "  <tbody>\n",
       "    <tr>\n",
       "      <th>0</th>\n",
       "      <td>6</td>\n",
       "      <td>148</td>\n",
       "      <td>72</td>\n",
       "      <td>35</td>\n",
       "      <td>0</td>\n",
       "      <td>33.6</td>\n",
       "      <td>0.627</td>\n",
       "      <td>50</td>\n",
       "      <td>1</td>\n",
       "    </tr>\n",
       "    <tr>\n",
       "      <th>1</th>\n",
       "      <td>1</td>\n",
       "      <td>85</td>\n",
       "      <td>66</td>\n",
       "      <td>29</td>\n",
       "      <td>0</td>\n",
       "      <td>26.6</td>\n",
       "      <td>0.351</td>\n",
       "      <td>31</td>\n",
       "      <td>0</td>\n",
       "    </tr>\n",
       "    <tr>\n",
       "      <th>2</th>\n",
       "      <td>8</td>\n",
       "      <td>183</td>\n",
       "      <td>64</td>\n",
       "      <td>0</td>\n",
       "      <td>0</td>\n",
       "      <td>23.3</td>\n",
       "      <td>0.672</td>\n",
       "      <td>32</td>\n",
       "      <td>1</td>\n",
       "    </tr>\n",
       "    <tr>\n",
       "      <th>3</th>\n",
       "      <td>1</td>\n",
       "      <td>89</td>\n",
       "      <td>66</td>\n",
       "      <td>23</td>\n",
       "      <td>94</td>\n",
       "      <td>28.1</td>\n",
       "      <td>0.167</td>\n",
       "      <td>21</td>\n",
       "      <td>0</td>\n",
       "    </tr>\n",
       "    <tr>\n",
       "      <th>4</th>\n",
       "      <td>0</td>\n",
       "      <td>137</td>\n",
       "      <td>40</td>\n",
       "      <td>35</td>\n",
       "      <td>168</td>\n",
       "      <td>43.1</td>\n",
       "      <td>2.288</td>\n",
       "      <td>33</td>\n",
       "      <td>1</td>\n",
       "    </tr>\n",
       "  </tbody>\n",
       "</table>\n",
       "</div>"
      ],
      "text/plain": [
       "   Pregnancies  Glucose  BloodPressure  SkinThickness  Insulin   BMI  \\\n",
       "0            6      148             72             35        0  33.6   \n",
       "1            1       85             66             29        0  26.6   \n",
       "2            8      183             64              0        0  23.3   \n",
       "3            1       89             66             23       94  28.1   \n",
       "4            0      137             40             35      168  43.1   \n",
       "\n",
       "   Pedigree  Age  Outcome  \n",
       "0     0.627   50        1  \n",
       "1     0.351   31        0  \n",
       "2     0.672   32        1  \n",
       "3     0.167   21        0  \n",
       "4     2.288   33        1  "
      ]
     },
     "execution_count": 281,
     "metadata": {},
     "output_type": "execute_result"
    }
   ],
   "source": [
    "df.head()"
   ]
  },
  {
   "cell_type": "code",
   "execution_count": 282,
   "id": "76253ce9",
   "metadata": {},
   "outputs": [
    {
     "name": "stdout",
     "output_type": "stream",
     "text": [
      "<class 'pandas.core.frame.DataFrame'>\n",
      "RangeIndex: 768 entries, 0 to 767\n",
      "Data columns (total 9 columns):\n",
      " #   Column         Non-Null Count  Dtype  \n",
      "---  ------         --------------  -----  \n",
      " 0   Pregnancies    768 non-null    int64  \n",
      " 1   Glucose        768 non-null    int64  \n",
      " 2   BloodPressure  768 non-null    int64  \n",
      " 3   SkinThickness  768 non-null    int64  \n",
      " 4   Insulin        768 non-null    int64  \n",
      " 5   BMI            768 non-null    float64\n",
      " 6   Pedigree       768 non-null    float64\n",
      " 7   Age            768 non-null    int64  \n",
      " 8   Outcome        768 non-null    int64  \n",
      "dtypes: float64(2), int64(7)\n",
      "memory usage: 54.1 KB\n"
     ]
    }
   ],
   "source": [
    "df.info()"
   ]
  },
  {
   "cell_type": "code",
   "execution_count": 283,
   "id": "a46140e1",
   "metadata": {},
   "outputs": [
    {
     "data": {
      "text/plain": [
       "(768, 9)"
      ]
     },
     "execution_count": 283,
     "metadata": {},
     "output_type": "execute_result"
    }
   ],
   "source": [
    "df.shape\n"
   ]
  },
  {
   "cell_type": "code",
   "execution_count": 284,
   "id": "a7b595e8",
   "metadata": {},
   "outputs": [],
   "source": [
    "# df.replace(to_replace = 0, value = df['Glucose'].mean(), inplace=True)\n",
    "# df.replace(to_replace = 0, value = df['BloodPressure'].mean(), inplace=True)\n",
    "# df.replace(to_replace = 0, value = df['SkinThickness'].mean(), inplace=True)\n",
    "# df.replace(to_replace = 0, value = df['Insulin'].mean(), inplace=True)\n",
    "# df.replace(to_replace = 0, value = df['BMI'].mean(), inplace=True)\n",
    "columns_to_process = ['Glucose', 'BloodPressure', 'SkinThickness', 'Insulin', 'BMI']\n",
    "\n",
    "for col in columns_to_process:\n",
    "    col_mean = df[col].mean()\n",
    "    df[col] = df[col].replace(0, int(col_mean)) "
   ]
  },
  {
   "cell_type": "code",
   "execution_count": 285,
   "id": "ffd560c6",
   "metadata": {},
   "outputs": [
    {
     "data": {
      "text/plain": [
       "Pregnancies      0\n",
       "Glucose          0\n",
       "BloodPressure    0\n",
       "SkinThickness    0\n",
       "Insulin          0\n",
       "BMI              0\n",
       "Pedigree         0\n",
       "Age              0\n",
       "Outcome          0\n",
       "dtype: int64"
      ]
     },
     "execution_count": 285,
     "metadata": {},
     "output_type": "execute_result"
    }
   ],
   "source": [
    "df.isnull().sum()"
   ]
  },
  {
   "cell_type": "code",
   "execution_count": 275,
   "id": "90503fa5",
   "metadata": {},
   "outputs": [
    {
     "data": {
      "text/plain": [
       "Index(['Pregnancies', 'Glucose', 'BloodPressure', 'SkinThickness', 'Insulin',\n",
       "       'BMI', 'Pedigree', 'Age', 'Outcome'],\n",
       "      dtype='object')"
      ]
     },
     "execution_count": 275,
     "metadata": {},
     "output_type": "execute_result"
    }
   ],
   "source": [
    "df.columns"
   ]
  },
  {
   "cell_type": "code",
   "execution_count": 289,
   "id": "dd936986",
   "metadata": {},
   "outputs": [],
   "source": [
    "df_x = df.drop(columns='Outcome', axis=1)\n",
    "df_y = df['Outcome']\n"
   ]
  },
  {
   "cell_type": "code",
   "execution_count": 290,
   "id": "80cc3bec",
   "metadata": {},
   "outputs": [],
   "source": [
    "# Data Scaling\n",
    "from sklearn.preprocessing import StandardScaler\n",
    "scale = StandardScaler()\n",
    "scaledX = scale.fit_transform(df_x)\n"
   ]
  },
  {
   "cell_type": "code",
   "execution_count": 291,
   "id": "11e24cc1",
   "metadata": {},
   "outputs": [],
   "source": [
    "from sklearn.model_selection import train_test_split\n",
    "x_train, x_test, y_train, y_test = train_test_split(scaledX, df_y, test_size=0.2, random_state=42)"
   ]
  },
  {
   "cell_type": "code",
   "execution_count": 292,
   "id": "53f1b0a5",
   "metadata": {},
   "outputs": [],
   "source": [
    "from sklearn.neighbors import KNeighborsClassifier\n",
    "\n",
    "knn = KNeighborsClassifier(\n",
    "    n_neighbors=7,  # Number of neighbors to consider (you can tune this)\n",
    "    algorithm='auto',\n",
    "    \n",
    ")\n",
    "knn.fit(x_train, y_train)\n",
    "y_pred = knn.predict(x_test)"
   ]
  },
  {
   "cell_type": "code",
   "execution_count": 293,
   "id": "219a8dad",
   "metadata": {},
   "outputs": [
    {
     "name": "stdout",
     "output_type": "stream",
     "text": [
      "Confusion matrix: \n",
      " [[82  8]\n",
      " [25 21]]\n"
     ]
    }
   ],
   "source": [
    "cs = metrics.confusion_matrix(y_test,y_pred)\n",
    "print(\"Confusion matrix: \\n\",cs)"
   ]
  },
  {
   "cell_type": "code",
   "execution_count": 294,
   "id": "fc64a058",
   "metadata": {},
   "outputs": [
    {
     "name": "stdout",
     "output_type": "stream",
     "text": [
      "Accuracy score:  0.7573529411764706\n"
     ]
    }
   ],
   "source": [
    "ac = metrics.accuracy_score(y_test, y_pred)\n",
    "print(\"Accuracy score: \",ac)"
   ]
  },
  {
   "cell_type": "code",
   "execution_count": 295,
   "id": "89868256",
   "metadata": {},
   "outputs": [
    {
     "name": "stdout",
     "output_type": "stream",
     "text": [
      "Error rate:  0.24264705882352944\n"
     ]
    }
   ],
   "source": [
    "er = 1-ac\n",
    "print(\"Error rate: \",er)"
   ]
  },
  {
   "cell_type": "code",
   "execution_count": 296,
   "id": "344d2ec8",
   "metadata": {},
   "outputs": [
    {
     "name": "stdout",
     "output_type": "stream",
     "text": [
      "Precision:  0.7241379310344828\n"
     ]
    }
   ],
   "source": [
    "p = metrics.precision_score(y_test,y_pred)\n",
    "print(\"Precision: \", p)"
   ]
  },
  {
   "cell_type": "code",
   "execution_count": 297,
   "id": "509b3480",
   "metadata": {},
   "outputs": [
    {
     "name": "stdout",
     "output_type": "stream",
     "text": [
      "Classification report: \n",
      "\n",
      "               precision    recall  f1-score   support\n",
      "\n",
      "           0       0.77      0.91      0.83        90\n",
      "           1       0.72      0.46      0.56        46\n",
      "\n",
      "    accuracy                           0.76       136\n",
      "   macro avg       0.75      0.68      0.70       136\n",
      "weighted avg       0.75      0.76      0.74       136\n",
      "\n"
     ]
    }
   ],
   "source": [
    "cr = metrics.classification_report(y_test,y_pred)\n",
    "print(\"Classification report: \\n\\n\", cr)"
   ]
  },
  {
   "cell_type": "markdown",
   "id": "94ff2984",
   "metadata": {},
   "source": [
    "Certainly! Here are explanations for `accuracy_score`, `precision_score`, and `recall_score`:\n",
    "\n",
    "1. **Accuracy Score (`accuracy_score`):**\n",
    "   - Accuracy is a measure of how many of the total predictions made by the model are correct. It's calculated as the ratio of correct predictions to the total number of predictions. The formula is:\n",
    "   \n",
    "   ![Accuracy Score Formula](https://latex.codecogs.com/gif.latex?Accuracy%20%3D%20%5Cfrac%7B%5Ctext%7BCorrect%20Predictions%7D%7D%7B%5Ctext%7BTotal%20Predictions%7D%7D)\n",
    "   \n",
    "   - Accuracy gives an overall measure of how well the model performs in terms of both true positives and true negatives. However, it may not be the best metric if the classes in your dataset are imbalanced. In such cases, a high accuracy score can be misleading.\n",
    "\n",
    "2. **Precision Score (`precision_score`):**\n",
    "   - Precision is a measure of how many of the positive predictions made by the model are actually correct. It focuses on minimizing false positives. The formula is:\n",
    "   \n",
    "   ![Precision Score Formula](https://latex.codecogs.com/gif.latex?Precision%20%3D%20%5Cfrac%7B%5Ctext%7BTrue%20Positives%7D%7D%7B%5Ctext%7BTrue%20Positives%7D%20&plus;%20%5Ctext%7BFalse%20Positives%7D%7D)\n",
    "   \n",
    "   - Precision is important when you want to ensure that the positive predictions made by your model are accurate and not resulting in too many false alarms.\n",
    "\n",
    "3. **Recall Score (`recall_score`):**\n",
    "   - Recall, also known as Sensitivity or True Positive Rate, is a measure of how many of the actual positive cases were correctly predicted by the model\n",
    "Certainly, here's more information about the recall score:\n",
    "\n",
    "**Recall Score (Sensitivity or True Positive Rate):**\n",
    "\n",
    "Recall, also known as Sensitivity or True Positive Rate, is a metric that evaluates a model's ability to correctly identify positive instances (e.g., cases where an event or condition is present). It's particularly important when minimizing false negatives (i.e., avoiding cases where the model fails to detect positive instances).\n",
    "\n",
    "The formula for Recall is:\n",
    "\n",
    "\\[ \\text{Recall} = \\frac{\\text{True Positives}}{\\text{True Positives} + \\text{False Negatives}} \\]\n",
    "\n",
    "- True Positives (TP) are the cases where the model correctly predicted the positive class.\n",
    "- False Negatives (FN) are the cases where the model incorrectly predicted the negative class when it was actually the positive class. In other words, the model missed detecting the positive instances.\n",
    "\n",
    "Recall quantifies the ability of a model to find all the relevant instances in the dataset. A high recall means that the model is good at identifying positive cases, even if it results in some false positives (cases that are predicted as positive but are actually negative). \n",
    "\n",
    "Recall is particularly important in scenarios where missing a positive instance has significant consequences. For example, in medical diagnosis, you want to ensure that a model has a high recall to detect diseases, even if it means some false alarms. In fraud detection, a high recall helps catch as many fraudulent transactions as possible.\n",
    "\n",
    "However, there's often a trade-off between precision and recall. Increasing recall tends to decrease precision because you may classify more instances as positive, including some false positives. The balance between precision and recall depends on the specific problem and the associated costs and benefits of true positives and false positives."
   ]
  },
  {
   "cell_type": "code",
   "execution_count": 286,
   "id": "172c7ccc",
   "metadata": {},
   "outputs": [
    {
     "data": {
      "text/plain": [
       "<AxesSubplot: >"
      ]
     },
     "execution_count": 286,
     "metadata": {},
     "output_type": "execute_result"
    },
    {
     "data": {
      "image/png": "[encoded data removed]",
      "text/plain": [
       "<Figure size 2000x1200 with 1 Axes>"
      ]
     },
     "metadata": {},
     "output_type": "display_data"
    }
   ],
   "source": [
    "# import matplotlib.pyplot as plt\n",
    "# plt.figure(figsize=(20,12))\n",
    "# sns.boxplot(data = df)\n"
   ]
  },
  {
   "cell_type": "code",
   "execution_count": 287,
   "id": "facb4082",
   "metadata": {},
   "outputs": [],
   "source": [
    "\n",
    "# import numpy as np\n",
    "\n",
    "\n",
    "# # Calculate the first quartile (Q1) and third quartile (Q3)\n",
    "# Q1 = np.percentile(df, 25)\n",
    "# Q3 = np.percentile(df, 75)\n",
    "\n",
    "# # Calculate the interquartile range (IQR)\n",
    "# IQR = Q3 - Q1\n",
    "\n",
    "# # Define a lower and upper bound for outliers\n",
    "# lower_bound = Q1 - 1.5 * IQR\n",
    "# upper_bound = Q3 + 1.5 * IQR\n",
    "\n",
    "# # Identify and remove outliers\n",
    "# outliers = (df < lower_bound) | (df > upper_bound)\n",
    "# c_df = df[~outliers]\n",
    "# -------------------------------------------------------------------------------------------------------------------------------\n",
    "# import pandas as pd\n",
    "\n",
    "# # Define the name of the column with outliers\n",
    "# column_name = 'Insulin'\n",
    "\n",
    "# # Calculate Q1 and Q3\n",
    "# Q1 = df[column_name].quantile(0.25)\n",
    "# Q3 = df[column_name].quantile(0.75)\n",
    "\n",
    "# # Calculate IQR\n",
    "# IQR = Q3 - Q1\n",
    "\n",
    "# # Define the lower and upper bounds\n",
    "# k = 1.5  # You can adjust this multiplier as needed\n",
    "# LB = Q1 - k * IQR\n",
    "# UB = Q3 + k * IQR\n",
    "\n",
    "# # Remove rows with outliers directly from the original DataFrame\n",
    "# df.drop(df[(df[column_name] < LB) | (df[column_name] > UB)].index, inplace=True)\n",
    "\n",
    "# # Optionally, reset the index\n",
    "# df.reset_index(drop=True, inplace=True)\n",
    "\n",
    "# # df now contains your dataset with outliers removed based on the IQR\n",
    "\n"
   ]
  }
 ],
 "metadata": {
  "kernelspec": {
   "display_name": "Python 3 (ipykernel)",
   "language": "python",
   "name": "python3"
  },
  "language_info": {
   "codemirror_mode": {
    "name": "ipython",
    "version": 3
   },
   "file_extension": ".py",
   "mimetype": "text/x-python",
   "name": "python",
   "nbconvert_exporter": "python",
   "pygments_lexer": "ipython3",
   "version": "3.10.7"
  }
 },
 "nbformat": 4,
 "nbformat_minor": 5
}
